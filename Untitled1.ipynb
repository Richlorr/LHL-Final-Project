{
 "cells": [
  {
   "cell_type": "code",
   "execution_count": 1,
   "id": "46d82786",
   "metadata": {},
   "outputs": [
    {
     "name": "stdout",
     "output_type": "stream",
     "text": [
      "3.9.12\n"
     ]
    }
   ],
   "source": [
    "from platform import python_version\n",
    "\n",
    "print(python_version())"
   ]
  },
  {
   "cell_type": "code",
   "execution_count": 2,
   "id": "780e4e75",
   "metadata": {},
   "outputs": [
    {
     "name": "stdout",
     "output_type": "stream",
     "text": [
      "Reading package lists... Done\n",
      "E: Could not open lock file /var/lib/apt/lists/lock - open (13: Permission denied)\n",
      "E: Unable to lock directory /var/lib/apt/lists/\n",
      "W: Problem unlinking the file /var/cache/apt/pkgcache.bin - RemoveCaches (13: Permission denied)\n",
      "W: Problem unlinking the file /var/cache/apt/srcpkgcache.bin - RemoveCaches (13: Permission denied)\n",
      "E: Could not open lock file /var/lib/dpkg/lock-frontend - open (13: Permission denied)\n",
      "E: Unable to acquire the dpkg frontend lock (/var/lib/dpkg/lock-frontend), are you root?\n"
     ]
    }
   ],
   "source": [
    "!apt-get update\n",
    "\n",
    "!apt-get install git --yes"
   ]
  },
  {
   "cell_type": "code",
   "execution_count": 3,
   "id": "df10fee8",
   "metadata": {
    "scrolled": true
   },
   "outputs": [
    {
     "name": "stdout",
     "output_type": "stream",
     "text": [
      "fatal: destination path 'DECA' already exists and is not an empty directory.\n"
     ]
    }
   ],
   "source": [
    "!git clone https://github.com/YadiraF/DECA"
   ]
  },
  {
   "cell_type": "code",
   "execution_count": 10,
   "id": "0a430731",
   "metadata": {},
   "outputs": [
    {
     "name": "stdout",
     "output_type": "stream",
     "text": [
      "Doc\t   TestSamples\tdecalib\t\t  install_pip.sh  requirements.txt\n",
      "LICENSE    configs\tdemos\t\t  logs\n",
      "README.md  data\t\tinstall_conda.sh  main_train.py\n"
     ]
    }
   ],
   "source": [
    "!ls DECA"
   ]
  },
  {
   "cell_type": "code",
   "execution_count": 13,
   "id": "700b9e4c",
   "metadata": {},
   "outputs": [
    {
     "name": "stdout",
     "output_type": "stream",
     "text": [
      "Collecting pip\n",
      "  Downloading https://files.pythonhosted.org/packages/a4/6d/6463d49a933f547439d6b5b98b46af8742cc03ae83543e4d7688c2420f8b/pip-21.3.1-py3-none-any.whl (1.7MB)\n",
      "\u001b[K    100% |################################| 1.7MB 703kB/s ta 0:00:011\n",
      "\u001b[?25hInstalling collected packages: pip\n",
      "  Found existing installation: pip 9.0.1\n",
      "    Uninstalling pip-9.0.1:\n",
      "      Successfully uninstalled pip-9.0.1\n",
      "Successfully installed pip-21.3.1\n",
      "\u001b[33mYou are using pip version 21.3.1, however version 22.0.4 is available.\n",
      "You should consider upgrading via the 'pip install --upgrade pip' command.\u001b[0m\n",
      "Collecting numpy>=1.18.5\n",
      "  Downloading numpy-1.19.5-cp36-cp36m-manylinux2010_x86_64.whl (14.8 MB)\n",
      "     |################################| 14.8 MB 762 kB/s            \n",
      "\u001b[?25hCollecting scipy>=1.4.1\n",
      "  Downloading scipy-1.5.4-cp36-cp36m-manylinux1_x86_64.whl (25.9 MB)\n",
      "     |################################| 25.9 MB 234 kB/s            \n",
      "\u001b[?25hCollecting chumpy>=0.69\n",
      "  Downloading chumpy-0.70.tar.gz (50 kB)\n",
      "     |################################| 50 kB 3.1 MB/s            \n",
      "\u001b[?25h  Preparing metadata (setup.py) ... \u001b[?25ldone\n",
      "\u001b[?25hCollecting scikit-image>=0.15\n",
      "  Downloading scikit_image-0.17.2-cp36-cp36m-manylinux1_x86_64.whl (12.4 MB)\n",
      "     |################################| 12.4 MB 3.3 MB/s            \n",
      "\u001b[?25hCollecting opencv-python>=4.1.1\n",
      "  Downloading opencv_python-4.5.5.64-cp36-abi3-manylinux_2_17_x86_64.manylinux2014_x86_64.whl (60.5 MB)\n",
      "     |################################| 60.5 MB 2.8 MB/s            \n",
      "\u001b[?25hCollecting PyYAML==5.1.1\n",
      "  Downloading PyYAML-5.1.1.tar.gz (274 kB)\n",
      "     |################################| 274 kB 3.4 MB/s            \n",
      "\u001b[?25h  Preparing metadata (setup.py) ... \u001b[?25ldone\n",
      "\u001b[?25hCollecting torch==1.6.0\n",
      "  Downloading torch-1.6.0-cp36-cp36m-manylinux1_x86_64.whl (748.8 MB)\n",
      "     |################################| 748.8 MB 14 kB/s              \n",
      "\u001b[?25hCollecting torchvision==0.7.0\n",
      "  Downloading torchvision-0.7.0-cp36-cp36m-manylinux1_x86_64.whl (5.9 MB)\n",
      "     |################################| 5.9 MB 3.9 MB/s            \n",
      "\u001b[?25hCollecting face-alignment\n",
      "  Downloading face_alignment-1.3.5.tar.gz (27 kB)\n",
      "  Preparing metadata (setup.py) ... \u001b[?25ldone\n",
      "\u001b[?25hCollecting yacs==0.1.8\n",
      "  Downloading yacs-0.1.8-py3-none-any.whl (14 kB)\n",
      "Collecting kornia==0.4.0\n",
      "  Downloading kornia-0.4.0-py2.py3-none-any.whl (195 kB)\n",
      "     |################################| 195 kB 2.7 MB/s            \n",
      "\u001b[?25hCollecting ninja\n",
      "  Downloading ninja-1.10.2.3-py2.py3-none-manylinux_2_5_x86_64.manylinux1_x86_64.whl (108 kB)\n",
      "     |################################| 108 kB 3.7 MB/s            \n",
      "\u001b[?25hCollecting fvcore\n",
      "  Downloading fvcore-0.1.5.post20220414.tar.gz (50 kB)\n",
      "     |################################| 50 kB 3.5 MB/s            \n",
      "\u001b[?25h  Preparing metadata (setup.py) ... \u001b[?25ldone\n",
      "\u001b[?25hCollecting future\n",
      "  Downloading future-0.18.2.tar.gz (829 kB)\n",
      "     |################################| 829 kB 3.7 MB/s            \n",
      "\u001b[?25h  Preparing metadata (setup.py) ... \u001b[?25ldone\n",
      "\u001b[?25hRequirement already satisfied: pillow>=4.1.1 in /opt/conda/envs/jupyter_env/lib/python3.6/site-packages (from torchvision==0.7.0->-r DECA/requirements.txt (line 11)) (5.0.0)\n",
      "Requirement already satisfied: six>=1.11.0 in /opt/conda/envs/jupyter_env/lib/python3.6/site-packages (from chumpy>=0.69->-r DECA/requirements.txt (line 5)) (1.11.0)\n",
      "Collecting imageio>=2.3.0\n",
      "  Downloading imageio-2.15.0-py3-none-any.whl (3.3 MB)\n",
      "     |################################| 3.3 MB 2.9 MB/s            \n",
      "\u001b[?25hRequirement already satisfied: matplotlib!=3.0.0,>=2.0.0 in /opt/conda/envs/jupyter_env/lib/python3.6/site-packages (from scikit-image>=0.15->-r DECA/requirements.txt (line 6)) (2.1.2)\n",
      "Collecting tifffile>=2019.7.26\n",
      "  Downloading tifffile-2020.9.3-py3-none-any.whl (148 kB)\n",
      "     |################################| 148 kB 3.6 MB/s            \n",
      "\u001b[?25hRequirement already satisfied: networkx>=2.0 in /opt/conda/envs/jupyter_env/lib/python3.6/site-packages (from scikit-image>=0.15->-r DECA/requirements.txt (line 6)) (2.1)\n",
      "Collecting PyWavelets>=1.1.1\n",
      "  Downloading PyWavelets-1.1.1-cp36-cp36m-manylinux1_x86_64.whl (4.4 MB)\n",
      "     |################################| 4.4 MB 1.0 MB/s            \n",
      "\u001b[?25hCollecting tqdm\n",
      "  Downloading tqdm-4.64.0-py2.py3-none-any.whl (78 kB)\n",
      "     |################################| 78 kB 3.3 MB/s            \n",
      "\u001b[?25hRequirement already satisfied: numba in /opt/conda/envs/jupyter_env/lib/python3.6/site-packages (from face-alignment->-r DECA/requirements.txt (line 12)) (0.36.2)\n",
      "Requirement already satisfied: termcolor>=1.1 in /opt/conda/envs/jupyter_env/lib/python3.6/site-packages (from fvcore->-r DECA/requirements.txt (line 16)) (1.1.0)\n",
      "Collecting tabulate\n",
      "  Downloading tabulate-0.8.9-py3-none-any.whl (25 kB)\n",
      "Collecting iopath>=0.1.7\n",
      "  Downloading iopath-0.1.9-py3-none-any.whl (27 kB)\n",
      "Collecting dataclasses\n",
      "  Downloading dataclasses-0.8-py3-none-any.whl (19 kB)\n",
      "Collecting pillow>=4.1.1\n",
      "  Downloading Pillow-8.4.0-cp36-cp36m-manylinux_2_17_x86_64.manylinux2014_x86_64.whl (3.1 MB)\n",
      "     |################################| 3.1 MB 3.5 MB/s            \n",
      "\u001b[?25hCollecting portalocker\n",
      "  Downloading portalocker-2.4.0-py2.py3-none-any.whl (16 kB)\n",
      "Requirement already satisfied: python-dateutil>=2.1 in /opt/conda/envs/jupyter_env/lib/python3.6/site-packages (from matplotlib!=3.0.0,>=2.0.0->scikit-image>=0.15->-r DECA/requirements.txt (line 6)) (2.6.1)\n",
      "Requirement already satisfied: pytz in /opt/conda/envs/jupyter_env/lib/python3.6/site-packages (from matplotlib!=3.0.0,>=2.0.0->scikit-image>=0.15->-r DECA/requirements.txt (line 6)) (2017.3)\n",
      "Requirement already satisfied: cycler>=0.10 in /opt/conda/envs/jupyter_env/lib/python3.6/site-packages (from matplotlib!=3.0.0,>=2.0.0->scikit-image>=0.15->-r DECA/requirements.txt (line 6)) (0.10.0)\n",
      "Requirement already satisfied: pyparsing!=2.0.4,!=2.1.2,!=2.1.6,>=2.0.1 in /opt/conda/envs/jupyter_env/lib/python3.6/site-packages (from matplotlib!=3.0.0,>=2.0.0->scikit-image>=0.15->-r DECA/requirements.txt (line 6)) (2.2.0)\n",
      "Requirement already satisfied: decorator>=4.1.0 in /opt/conda/envs/jupyter_env/lib/python3.6/site-packages (from networkx>=2.0->scikit-image>=0.15->-r DECA/requirements.txt (line 6)) (4.2.1)\n",
      "Requirement already satisfied: llvmlite in /opt/conda/envs/jupyter_env/lib/python3.6/site-packages (from numba->face-alignment->-r DECA/requirements.txt (line 12)) (0.21.0)\n",
      "Collecting importlib-resources\n",
      "  Downloading importlib_resources-5.4.0-py3-none-any.whl (28 kB)\n",
      "Collecting zipp>=3.1.0\n",
      "  Downloading zipp-3.6.0-py3-none-any.whl (5.3 kB)\n",
      "Building wheels for collected packages: PyYAML, chumpy, face-alignment, fvcore, future\n",
      "  Building wheel for PyYAML (setup.py) ... \u001b[?25ldone\n",
      "\u001b[?25h  Created wheel for PyYAML: filename=PyYAML-5.1.1-cp36-cp36m-linux_x86_64.whl size=45438 sha256=d2fa1d16ad38b9019b490b9d5c007f70f8826af22a9dac5a926c4c64beffb0f7\n",
      "  Stored in directory: /root/.cache/pip/wheels/16/d5/ad/538ac04f524f2ef7d57fcb7dc5df86c812074c6fb210fcf0f1\n",
      "  Building wheel for chumpy (setup.py) ... \u001b[?25ldone\n",
      "\u001b[?25h  Created wheel for chumpy: filename=chumpy-0.70-py3-none-any.whl size=59200 sha256=089190af3a0924c8e1827d2732edc1b0d1271b7fd6abd5c675e7e7f43bfc699a\n",
      "  Stored in directory: /root/.cache/pip/wheels/c9/08/2d/c410fb010f46e5b4359f7f82009e64d77c7070e839f5a34d6d\n",
      "  Building wheel for face-alignment (setup.py) ... \u001b[?25ldone\n",
      "\u001b[?25h  Created wheel for face-alignment: filename=face_alignment-1.3.5-py2.py3-none-any.whl size=31506 sha256=f21862bbe5957c39f09bb999d9815850bdd25c5c845e9f79476081eb9b6ea308\n",
      "  Stored in directory: /root/.cache/pip/wheels/b0/e5/0e/07fc785e6cb69b6ae4bbaeb015d05d05c1cfc7eff1f1e9f15d\n",
      "  Building wheel for fvcore (setup.py) ... \u001b[?25ldone\n",
      "\u001b[?25h  Created wheel for fvcore: filename=fvcore-0.1.5.post20220414-py3-none-any.whl size=62185 sha256=cdbbd094fef81bc37a9581efa45c458c79471dc85969df941ba8c37f6f9f9661\n",
      "  Stored in directory: /root/.cache/pip/wheels/7a/a6/57/36d63ad4727ca59ed0f04df0de155247c749a173f5a66443a6\n",
      "  Building wheel for future (setup.py) ... \u001b[?25ldone\n",
      "\u001b[?25h  Created wheel for future: filename=future-0.18.2-py3-none-any.whl size=493313 sha256=ece1ab1a860de2a491cefed99fba778b864192d5105efd3336bdfad2ea44eedc\n",
      "  Stored in directory: /root/.cache/pip/wheels/6e/9c/ed/4499c9865ac1002697793e0ae05ba6be33553d098f3347fb94\n",
      "Successfully built PyYAML chumpy face-alignment fvcore future\n",
      "Installing collected packages: zipp, pillow, numpy, importlib-resources, tqdm, tifffile, scipy, PyYAML, PyWavelets, portalocker, imageio, future, dataclasses, yacs, torch, tabulate, scikit-image, opencv-python, iopath, torchvision, ninja, kornia, fvcore, face-alignment, chumpy\n",
      "  Attempting uninstall: pillow\n",
      "    Found existing installation: Pillow 5.0.0\n",
      "    Uninstalling Pillow-5.0.0:\n",
      "      Successfully uninstalled Pillow-5.0.0\n",
      "  Attempting uninstall: numpy\n",
      "    Found existing installation: numpy 1.14.0\n",
      "    Uninstalling numpy-1.14.0:\n",
      "      Successfully uninstalled numpy-1.14.0\n",
      "  Attempting uninstall: scipy\n",
      "    Found existing installation: scipy 1.0.0\n",
      "    Uninstalling scipy-1.0.0:\n",
      "      Successfully uninstalled scipy-1.0.0\n",
      "  Attempting uninstall: PyYAML\n",
      "    Found existing installation: PyYAML 3.12\n",
      "\u001b[31mERROR: Cannot uninstall 'PyYAML'. It is a distutils installed project and thus we cannot accurately determine which files belong to it which would lead to only a partial uninstall.\u001b[0m\n"
     ]
    }
   ],
   "source": [
    "!python3 -m pip install --upgrade pip\n",
    "!pip3 install -r DECA/requirements.txt"
   ]
  },
  {
   "cell_type": "code",
   "execution_count": null,
   "id": "fd4cf98f",
   "metadata": {},
   "outputs": [],
   "source": []
  },
  {
   "cell_type": "code",
   "execution_count": 14,
   "id": "0be09dc8",
   "metadata": {},
   "outputs": [
    {
     "name": "stdout",
     "output_type": "stream",
     "text": [
      "/bin/sh: 1: nvcc: not found\n"
     ]
    }
   ],
   "source": [
    "!nvcc --version"
   ]
  },
  {
   "cell_type": "code",
   "execution_count": 9,
   "id": "27f57de0",
   "metadata": {},
   "outputs": [
    {
     "name": "stdout",
     "output_type": "stream",
     "text": [
      "Ign:1 http://developer.download.nvidia.com/compute/cuda/repos/ubuntu1604/x86_64  InRelease\n",
      "Get:2 http://security.ubuntu.com/ubuntu xenial-security InRelease [99.8 kB]\n",
      "Ign:3 http://developer.download.nvidia.com/compute/machine-learning/repos/ubuntu1604/x86_64  InRelease\n",
      "Hit:4 http://archive.ubuntu.com/ubuntu xenial InRelease                       \n",
      "Hit:5 http://developer.download.nvidia.com/compute/cuda/repos/ubuntu1604/x86_64  Release\n",
      "Hit:6 http://developer.download.nvidia.com/compute/machine-learning/repos/ubuntu1604/x86_64  Release\n",
      "Hit:7 http://archive.ubuntu.com/ubuntu xenial-updates InRelease                \n",
      "Hit:9 http://archive.ubuntu.com/ubuntu xenial-backports InRelease              \n",
      "Fetched 99.8 kB in 0s (156 kB/s)                                               \n",
      "Reading package lists... Done\n",
      "Reading package lists... Done\n",
      "Building dependency tree       \n",
      "Reading state information... Done\n",
      "git is already the newest version (1:2.7.4-0ubuntu1.10).\n",
      "0 upgraded, 0 newly installed, 0 to remove and 64 not upgraded.\n",
      "Reading package lists... Done\n",
      "Building dependency tree       \n",
      "Reading state information... Done\n",
      "The following NEW packages will be installed:\n",
      "  tzdata\n",
      "0 upgraded, 1 newly installed, 0 to remove and 64 not upgraded.\n",
      "Need to get 167 kB of archives.\n",
      "After this operation, 2867 kB of additional disk space will be used.\n",
      "Get:1 http://archive.ubuntu.com/ubuntu xenial-updates/main amd64 tzdata all 2021a-0ubuntu0.16.04 [167 kB]\n",
      "Fetched 167 kB in 0s (296 kB/s)\n",
      "debconf: delaying package configuration, since apt-utils is not installed\n",
      "Selecting previously unselected package tzdata.\n",
      "(Reading database ... 11328 files and directories currently installed.)\n",
      "Preparing to unpack .../tzdata_2021a-0ubuntu0.16.04_all.deb ...\n",
      "Unpacking tzdata (2021a-0ubuntu0.16.04) ...\n",
      "Setting up tzdata (2021a-0ubuntu0.16.04) ...\n",
      "\n",
      "Current default time zone: 'Etc/UTC'\n",
      "Local time is now:      Sat Apr 23 19:42:00 UTC 2022.\n",
      "Universal Time is now:  Sat Apr 23 19:42:00 UTC 2022.\n",
      "Run 'dpkg-reconfigure tzdata' if you wish to change it.\n",
      "\n"
     ]
    }
   ],
   "source": [
    "!apt-get update\n",
    "\n",
    "!apt-get install git --yes\n",
    "!DEBIAN_FRONTEND=noninteractive apt-get install -y --no-install-recommends tzdata"
   ]
  },
  {
   "cell_type": "code",
   "execution_count": 15,
   "id": "45345d94",
   "metadata": {
    "scrolled": true
   },
   "outputs": [
    {
     "name": "stdout",
     "output_type": "stream",
     "text": [
      "Reading package lists... Done\n",
      "Building dependency tree       \n",
      "Reading state information... Done\n",
      "dialog is already the newest version (1.3-20160209-1).\n",
      "0 upgraded, 0 newly installed, 0 to remove and 62 not upgraded.\n",
      "Reading package lists... Done\n",
      "Building dependency tree       \n",
      "Reading state information... Done\n",
      "libsm6 is already the newest version (2:1.2.2-1).\n",
      "libxext6 is already the newest version (2:1.3.3-1).\n",
      "ffmpeg is already the newest version (7:2.8.17-0ubuntu0.1).\n",
      "0 upgraded, 0 newly installed, 0 to remove and 62 not upgraded.\n",
      "Ign:1 http://developer.download.nvidia.com/compute/cuda/repos/ubuntu1604/x86_64  InRelease\n",
      "Ign:2 http://developer.download.nvidia.com/compute/machine-learning/repos/ubuntu1604/x86_64  InRelease\n",
      "Hit:3 http://developer.download.nvidia.com/compute/cuda/repos/ubuntu1604/x86_64  Release\n",
      "Hit:4 http://security.ubuntu.com/ubuntu xenial-security InRelease              \n",
      "Hit:5 http://archive.ubuntu.com/ubuntu xenial InRelease                        \n",
      "Hit:6 http://developer.download.nvidia.com/compute/machine-learning/repos/ubuntu1604/x86_64  Release\n",
      "Hit:7 http://archive.ubuntu.com/ubuntu xenial-updates InRelease\n",
      "Hit:9 http://archive.ubuntu.com/ubuntu xenial-backports InRelease\n",
      "Reading package lists... Done                    \n",
      "Reading package lists... Done\n",
      "Building dependency tree       \n",
      "Reading state information... Done\n",
      "E: Unable to locate package python3-opencv\n"
     ]
    }
   ],
   "source": [
    "!apt-get install dialog\n",
    "!apt-get install ffmpeg libsm6 libxext6  -y\n",
    "!apt-get update && apt-get install -y python3-opencv\n",
    "# !pip install opencv-python"
   ]
  },
  {
   "cell_type": "markdown",
   "id": "125a7f90",
   "metadata": {},
   "source": [
    "## Download the Flame 2020 model (requires signup)\n",
    "## -Extract to ./data folder\n",
    "\n",
    "\n",
    "## Download the pretrained DECA model\n",
    "## -move to ./data folder (no extraction required)"
   ]
  },
  {
   "cell_type": "code",
   "execution_count": 7,
   "id": "b62b025c",
   "metadata": {
    "scrolled": true
   },
   "outputs": [],
   "source": [
    "# # first get the PPA repository driver\n",
    "# !add-apt-repository ppa:graphics-drivers/ppa\n",
    "\n",
    "# # install nvidai driver \n",
    "# !apt install nvidia-384 nvidia-384-dev\n",
    "\n",
    "# # install other import packages\n",
    "# !apt-get install g++ freeglut3-dev build-essential libx11-dev libxmu-dev libxi-dev libglu1-mesa libglu1-mesa-dev\n",
    "\n",
    "# # CUDA 9 requires gcc 6\n",
    "# !apt install gcc-6\n",
    "# !apt install g++-6\n",
    "\n",
    "# # downoad one of the \"runfile (local)\" installation packages from cuda toolkit archive \n",
    "# !https://developer.nvidia.com/compute/cuda/9.0/Prod/local_installers/cuda_9.0.176_384.81_linux-run\n",
    "\n",
    "# # make the download file executable\n",
    "# !chmod +x cuda_9.0.176_384.81_linux-run \n",
    "# ! ./cuda_9.0.176_384.81_linux-run --override\n",
    "\n",
    "# # Answer questions following while installation begin\n",
    "# # You are attempting to install on an unsupported configuration. Do you wish to continue? y\n",
    "# # Install NVIDIA Accelerated Graphics Driver for Linux-x86_64 384.81? n\n",
    "# # Install the CUDA 9.0 Toolkit? y\n",
    "\n",
    "# # set up symlinks for gcc/g++\n",
    "# ! ln -s /usr/bin/gcc-6 /usr/local/cuda/bin/gcc\n",
    "# ! ln -s /usr/bin/g++-6 /usr/local/cuda/bin/g++\n",
    "\\\n",
    "\n",
    "# # setup your paths\n",
    "# !echo 'export PATH=/usr/local/cuda-9.0/bin:$PATH' >> ~/.bashrc\n",
    "# !echo 'export LD_LIBRARY_PATH=/usr/local/cuda-9.0/lib64:$LD_LIBRARY_PATH' >> ~/.bashrc\n",
    "# !source ~/.bashrc\n",
    "\n",
    "# # install cuDNN v7.1\n",
    "# # in order to download cuDNN you have to regeistered here https://developer.nvidia.com/developer-program/signup\n",
    "# # then download cuDNN v7.1 form https://developer.nvidia.com/cudnn\n",
    "# !CUDNN_TAR_FILE=\"cudnn-9.0-linux-x64-v7.1\"\n",
    "# !wget http://developer.download.nvidia.com/compute/redist/cudnn/v7.1/${CUDNN_TAR_FILE}\n",
    "# !tar -xzvf ${CUDNN_TAR_FILE}\n",
    "\n",
    "# #copy the following files into the cuda toolkit directory.\n",
    "# ! cp -P cuda/include/cudnn.h /usr/local/cuda-9.0/include\n",
    "# ! cp -P cuda/lib64/libcudnn* /usr/local/cuda-9.0/lib64/\n",
    "# ! chmod a+r /usr/local/cuda-9.0/lib64/libcudnn*"
   ]
  },
  {
   "cell_type": "code",
   "execution_count": 19,
   "id": "34a7a50f",
   "metadata": {},
   "outputs": [],
   "source": [
    "# !pip install -U pip\n",
    "# !pip install opencv-python\n",
    "# !pip3 install numpy==1.21 # for some reason dockerfile won't give us the right numpy\n",
    "\n",
    "\n",
    "\n",
    "\n",
    "# !python -m pip install --user numpy scipy matplotlib ipython jupyter pandas sympy nose\n",
    "# !pip install tqdm\n",
    "# !pip3 install torch torchvision torchaudio\n",
    "# !pip install -U scikit-image\n",
    "# !pip install kornia\n",
    "# !pip install yacs\n",
    "# !pip install face-alignment\n",
    "# !pip install chumpy\n",
    "# !pip install ninja"
   ]
  },
  {
   "cell_type": "code",
   "execution_count": 47,
   "id": "0f703ee1",
   "metadata": {},
   "outputs": [],
   "source": [
    "# !apt-get install software-properties-common -y\n",
    "# !apt-get update\n",
    "\n",
    "# !add-apt-repository -y ppa:ubuntu-toolchain-r/test\n",
    "# !apt install -y gcc-9 g++-9\n",
    "\n",
    "!ln -s /usr/bin/gcc-9 /usr/local/cuda/bin/gcc \n",
    "!ln -s /usr/bin/g++-9 /usr/local/cuda/bin/g++\n",
    "\n",
    "# !apt install curl -y"
   ]
  },
  {
   "cell_type": "code",
   "execution_count": 18,
   "id": "c5b31c2d",
   "metadata": {},
   "outputs": [],
   "source": [
    "# !g++ --version"
   ]
  },
  {
   "cell_type": "code",
   "execution_count": 21,
   "id": "62d9b228",
   "metadata": {},
   "outputs": [],
   "source": [
    "# !curl -s -L https://nvidia.github.io/nvidia-docker/ubuntu18.04/nvidia-docker.list | \\\n",
    "#     tee /etc/apt/sources.list.d/nvidia-docker.list \\\n",
    "#   apt-key add -\n",
    "# !distribution=$(. /etc/os-release;echo $ID$VERSION_ID)\n",
    "# !curl -s -L https://nvidia.github.io/nvidia-docker/$distribution/nvidia-docker.list | \\\n",
    "#   tee /etc/apt/sources.list.d/nvidia-docker.list\n",
    "# !apt-get update\n",
    "\n",
    "# !apt-get install -y nvidia-container-toolkit"
   ]
  },
  {
   "cell_type": "code",
   "execution_count": 17,
   "id": "d2af8a00",
   "metadata": {},
   "outputs": [],
   "source": [
    "# !apt clean"
   ]
  },
  {
   "cell_type": "code",
   "execution_count": 16,
   "id": "44c9f633",
   "metadata": {},
   "outputs": [],
   "source": [
    "# !df -h"
   ]
  },
  {
   "cell_type": "code",
   "execution_count": 25,
   "id": "b988ee0b",
   "metadata": {},
   "outputs": [],
   "source": [
    "# from setuptools import setup\n",
    "# from torch.utils.cpp_extension import BuildExtension, CppExtension\n",
    "# setup(\n",
    "#     name='extension',\n",
    "#     ext_modules=[\n",
    "#         CppExtension(\n",
    "#             name='extension',\n",
    "#             sources=['extension.cpp'],\n",
    "#             extra_compile_args=['-g']),\n",
    "#     ],\n",
    "#      cmdclass={\n",
    "#         'build_ext': BuildExtension\n",
    "#      })"
   ]
  },
  {
   "cell_type": "code",
   "execution_count": null,
   "id": "48948419",
   "metadata": {},
   "outputs": [],
   "source": [
    "# pip3 install torch torchvision torchaudio --extra-index-url https://download.pytorch.org/whl/cu113"
   ]
  },
  {
   "cell_type": "code",
   "execution_count": 6,
   "id": "4f742628",
   "metadata": {},
   "outputs": [
    {
     "name": "stdout",
     "output_type": "stream",
     "text": [
      "Solving environment: done\n",
      "\n",
      "\n",
      "==> WARNING: A newer version of conda exists. <==\n",
      "  current version: 4.4.10\n",
      "  latest version: 4.12.0\n",
      "\n",
      "Please update conda by running\n",
      "\n",
      "    $ conda update -n base conda\n",
      "\n",
      "\n",
      "\n",
      "## Package Plan ##\n",
      "\n",
      "  environment location: /opt/conda\n",
      "\n",
      "  added / updated specs: \n",
      "    - cudatoolkit=10.1\n",
      "    - pytorch==1.7.1\n",
      "    - torchaudio==0.7.2\n",
      "    - torchvision==0.8.2\n",
      "\n",
      "\n",
      "The following packages will be downloaded:\n",
      "\n",
      "    package                    |            build\n",
      "    ---------------------------|-----------------\n",
      "    certifi-2021.10.8          |   py37h06a4308_2         156 KB\n",
      "    blas-1.0                   |              mkl           6 KB\n",
      "    cudatoolkit-10.1.243       |       h6bb024c_0       513.2 MB\n",
      "    tk-8.6.11                  |       h1ccaba5_0         3.2 MB\n",
      "    python-3.7.0               |       hc3d631a_0        31.7 MB\n",
      "    torchvision-0.8.2          |       py37_cu101        17.9 MB  pytorch\n",
      "    libuv-1.40.0               |       h7b6447c_0         933 KB\n",
      "    olefile-0.46               |     pyhd3eb1b0_0          33 KB\n",
      "    mkl-2020.2                 |              256       213.9 MB\n",
      "    ncurses-6.3                |       h7f8727e_2         1.0 MB\n",
      "    libgfortran-ng-7.3.0       |       hdf63c60_0         1.3 MB\n",
      "    wheel-0.37.1               |     pyhd3eb1b0_0          31 KB\n",
      "    sqlite-3.33.0              |       h62c20be_0         2.0 MB\n",
      "    numpy-1.11.3               |  py37h7e9f1db_12          16 KB\n",
      "    ninja-1.8.2                |   py37h6bb024c_1         1.3 MB\n",
      "    intel-openmp-2022.0.1      |    h06a4308_3633         8.5 MB\n",
      "    torchaudio-0.7.2           |             py37         9.9 MB  pytorch\n",
      "    numpy-base-1.11.3          |  py37hde5b4d6_12         3.6 MB\n",
      "    ca-certificates-2022.3.29  |       h06a4308_1         129 KB\n",
      "    libtiff-4.0.9              |       he85c1e1_1         566 KB\n",
      "    _libgcc_mutex-0.1          |             main           3 KB\n",
      "    pillow-5.4.1               |   py37h34e0f95_0         616 KB\n",
      "    libgcc-ng-9.1.0            |       hdf63c60_0         8.1 MB\n",
      "    pip-21.2.2                 |   py37h06a4308_0         2.0 MB\n",
      "    readline-7.0               |       h7b6447c_5         392 KB\n",
      "    xz-5.2.5                   |       h7b6447c_0         438 KB\n",
      "    freetype-2.11.0            |       h70c0345_0         943 KB\n",
      "    libedit-3.1.20210910       |       h7f8727e_0         191 KB\n",
      "    pytorch-1.7.1              |py3.7_cuda10.1.243_cudnn7.6.3_0       552.8 MB  pytorch\n",
      "    setuptools-61.2.0          |   py37h06a4308_0         1.3 MB\n",
      "    zlib-1.2.12                |       h7f8727e_2         130 KB\n",
      "    typing_extensions-4.1.1    |     pyh06a4308_0          29 KB\n",
      "    openssl-1.0.2u             |       h7b6447c_0         3.1 MB\n",
      "    libpng-1.6.37              |       hbc83047_0         364 KB\n",
      "    ------------------------------------------------------------\n",
      "                                           Total:        1.35 GB\n",
      "\n",
      "The following NEW packages will be INSTALLED:\n",
      "\n",
      "    _libgcc_mutex:     0.1-main                                     \n",
      "    blas:              1.0-mkl                                      \n",
      "    cudatoolkit:       10.1.243-h6bb024c_0                          \n",
      "    freetype:          2.11.0-h70c0345_0                            \n",
      "    intel-openmp:      2022.0.1-h06a4308_3633                       \n",
      "    jpeg:              9b-h024ee3a_2                                \n",
      "    libgfortran-ng:    7.3.0-hdf63c60_0                             \n",
      "    libpng:            1.6.37-hbc83047_0                            \n",
      "    libtiff:           4.0.9-he85c1e1_1                             \n",
      "    libuv:             1.40.0-h7b6447c_0                            \n",
      "    mkl:               2020.2-256                                   \n",
      "    ninja:             1.8.2-py37h6bb024c_1                         \n",
      "    numpy:             1.11.3-py37h7e9f1db_12                       \n",
      "    numpy-base:        1.11.3-py37hde5b4d6_12                       \n",
      "    olefile:           0.46-pyhd3eb1b0_0                            \n",
      "    pillow:            5.4.1-py37h34e0f95_0                         \n",
      "    pytorch:           1.7.1-py3.7_cuda10.1.243_cudnn7.6.3_0 pytorch\n",
      "    torchaudio:        0.7.2-py37                            pytorch\n",
      "    torchvision:       0.8.2-py37_cu101                      pytorch\n",
      "    typing_extensions: 4.1.1-pyh06a4308_0                           \n",
      "\n",
      "The following packages will be UPDATED:\n",
      "\n",
      "    ca-certificates:   2017.08.26-h1d4fec5_0                         --> 2022.3.29-h06a4308_1    \n",
      "    certifi:           2018.1.18-py36_0                              --> 2021.10.8-py37h06a4308_2\n",
      "    libedit:           3.1-heed3624_0                                --> 3.1.20210910-h7f8727e_0 \n",
      "    libgcc-ng:         7.2.0-h7cc24e2_2                              --> 9.1.0-hdf63c60_0        \n",
      "    ncurses:           6.0-h9df7e31_2                                --> 6.3-h7f8727e_2          \n",
      "    openssl:           1.0.2n-hb7f436b_0                             --> 1.0.2u-h7b6447c_0       \n",
      "    pip:               9.0.1-py36h6c6f9ce_4                          --> 21.2.2-py37h06a4308_0   \n",
      "    python:            3.6.4-hc3d631a_1                              --> 3.7.0-hc3d631a_0        \n",
      "    readline:          7.0-ha6073c6_4                                --> 7.0-h7b6447c_5          \n",
      "    setuptools:        38.4.0-py36_0                                 --> 61.2.0-py37h06a4308_0   \n",
      "    sqlite:            3.22.0-h1bed415_0                             --> 3.33.0-h62c20be_0       \n",
      "    tk:                8.6.7-hc745277_3                              --> 8.6.11-h1ccaba5_0       \n",
      "    wheel:             0.30.0-py36hfd4bba0_1                         --> 0.37.1-pyhd3eb1b0_0     \n",
      "    xz:                5.2.3-h55aa19d_2                              --> 5.2.5-h7b6447c_0        \n",
      "    zlib:              1.2.11-ha838bed_2                             --> 1.2.12-h7f8727e_2       \n",
      "\n",
      "\n",
      "Downloading and Extracting Packages\n",
      "certifi 2021.10.8: ##################################################### | 100% \n",
      "blas 1.0: ############################################################## | 100% \n",
      "cudatoolkit 10.1.243: ################################################## | 100% \n",
      "tk 8.6.11: ############################################################# | 100% \n",
      "python 3.7.0: ########################################################## | 100% \n",
      "torchvision 0.8.2: ##################################################### | 100% \n",
      "libuv 1.40.0: ########################################################## | 100% \n",
      "olefile 0.46: ########################################################## | 100% \n",
      "mkl 2020.2: ############################################################ | 100% \n",
      "ncurses 6.3: ########################################################### | 100% \n",
      "libgfortran-ng 7.3.0: ################################################## | 100% \n",
      "wheel 0.37.1: ########################################################## | 100% \n",
      "sqlite 3.33.0: ######################################################### | 100% \n",
      "numpy 1.11.3: ########################################################## | 100% \n",
      "ninja 1.8.2: ########################################################### | 100% \n",
      "intel-openmp 2022.0.1: ################################################# | 100% \n",
      "torchaudio 0.7.2: ###################################################### | 100% \n",
      "numpy-base 1.11.3: ##################################################### | 100% \n",
      "ca-certificates 2022.3.29: ############################################# | 100% \n",
      "libtiff 4.0.9: ######################################################### | 100% \n",
      "_libgcc_mutex 0.1: ##################################################### | 100% \n",
      "pillow 5.4.1: ########################################################## | 100% \n",
      "libgcc-ng 9.1.0: ####################################################### | 100% \n",
      "pip 21.2.2: ############################################################ | 100% \n",
      "readline 7.0: ########################################################## | 100% \n",
      "xz 5.2.5: ############################################################## | 100% \n",
      "freetype 2.11.0: ####################################################### | 100% \n",
      "libedit 3.1.20210910: ################################################## | 100% \n",
      "pytorch 1.7.1: ######################################################### | 100% \n",
      "setuptools 61.2.0: ##################################################### | 100% \n",
      "zlib 1.2.12: ########################################################### | 100% \n",
      "typing_extensions 4.1.1: ############################################### | 100% \n",
      "openssl 1.0.2u: ######################################################## | 100% \n",
      "libpng 1.6.37: ######################################################### | 100% \n",
      "Preparing transaction: done\n",
      "Verifying transaction: done\n",
      "Executing transaction: done\n"
     ]
    }
   ],
   "source": [
    "!conda install pytorch==1.7.1 torchvision==0.8.2 torchaudio==0.7.2 cudatoolkit=10.1 -c pytorch -y"
   ]
  },
  {
   "cell_type": "code",
   "execution_count": 32,
   "id": "fe17cdc5",
   "metadata": {},
   "outputs": [
    {
     "name": "stdout",
     "output_type": "stream",
     "text": [
      "Collecting package metadata (current_repodata.json): done\n",
      "Solving environment: done\n",
      "\n",
      "## Package Plan ##\n",
      "\n",
      "  environment location: /home/richy/anaconda3/envs/deca_env\n",
      "\n",
      "  added / updated specs:\n",
      "    - fvcore\n",
      "    - iopath\n",
      "\n",
      "\n",
      "The following packages will be downloaded:\n",
      "\n",
      "    package                    |            build\n",
      "    ---------------------------|-----------------\n",
      "    fvcore-0.1.5.post20210915  |             py37          89 KB  fvcore\n",
      "    iopath-0.1.9               |             py37          41 KB  iopath\n",
      "    portalocker-2.4.0          |   py37h89c1867_0          28 KB  conda-forge\n",
      "    pyyaml-5.4.1               |   py37h5e8e339_0         189 KB  conda-forge\n",
      "    tabulate-0.8.9             |     pyhd8ed1ab_0          26 KB  conda-forge\n",
      "    termcolor-1.1.0            |             py_2           6 KB  conda-forge\n",
      "    yacs-0.1.8                 |     pyhd8ed1ab_0          17 KB  conda-forge\n",
      "    yaml-0.2.5                 |       h516909a_0          82 KB  conda-forge\n",
      "    ------------------------------------------------------------\n",
      "                                           Total:         478 KB\n",
      "\n",
      "The following NEW packages will be INSTALLED:\n",
      "\n",
      "  colorama           conda-forge/noarch::colorama-0.4.4-pyh9f0ad1d_0\n",
      "  fvcore             fvcore/linux-64::fvcore-0.1.5.post20210915-py37\n",
      "  iopath             iopath/linux-64::iopath-0.1.9-py37\n",
      "  portalocker        conda-forge/linux-64::portalocker-2.4.0-py37h89c1867_0\n",
      "  pyyaml             conda-forge/linux-64::pyyaml-5.4.1-py37h5e8e339_0\n",
      "  tabulate           conda-forge/noarch::tabulate-0.8.9-pyhd8ed1ab_0\n",
      "  termcolor          conda-forge/noarch::termcolor-1.1.0-py_2\n",
      "  tqdm               conda-forge/noarch::tqdm-4.64.0-pyhd8ed1ab_0\n",
      "  yacs               conda-forge/noarch::yacs-0.1.8-pyhd8ed1ab_0\n",
      "  yaml               conda-forge/linux-64::yaml-0.2.5-h516909a_0\n",
      "\n",
      "The following packages will be SUPERSEDED by a higher-priority channel:\n",
      "\n",
      "  ca-certificates    pkgs/main::ca-certificates-2022.3.29-~ --> conda-forge::ca-certificates-2021.10.8-ha878542_0\n",
      "  certifi            pkgs/main::certifi-2021.10.8-py37h06a~ --> conda-forge::certifi-2021.10.8-py37h89c1867_2\n",
      "\n",
      "\n",
      "\n",
      "Downloading and Extracting Packages\n",
      "tabulate-0.8.9       | 26 KB     | ##################################### | 100% \n",
      "iopath-0.1.9         | 41 KB     | ##################################### | 100% \n",
      "portalocker-2.4.0    | 28 KB     | ##################################### | 100% \n",
      "fvcore-0.1.5.post202 | 89 KB     | ##################################### | 100% \n",
      "yaml-0.2.5           | 82 KB     | ##################################### | 100% \n",
      "pyyaml-5.4.1         | 189 KB    | ##################################### | 100% \n",
      "yacs-0.1.8           | 17 KB     | ##################################### | 100% \n",
      "termcolor-1.1.0      | 6 KB      | ##################################### | 100% \n",
      "Preparing transaction: done\n",
      "Verifying transaction: done\n",
      "Executing transaction: done\n",
      "Looking in links: https://download.pytorch.org/whl/torch_stable.html\n",
      "Collecting torch==1.6.0+cu101\n",
      "  Downloading https://download.pytorch.org/whl/cu101/torch-1.6.0%2Bcu101-cp37-cp37m-linux_x86_64.whl (708.0 MB)\n",
      "\u001b[K     |████████████████████████████████| 708.0 MB 14 kB/s  eta 0:00:018\n",
      "\u001b[?25hRequirement already satisfied: numpy in /home/richy/anaconda3/envs/deca_env/lib/python3.7/site-packages (from torch==1.6.0+cu101) (1.21.6)\n",
      "Requirement already satisfied: future in /home/richy/anaconda3/envs/deca_env/lib/python3.7/site-packages (from torch==1.6.0+cu101) (0.18.2)\n",
      "Installing collected packages: torch\n",
      "  Attempting uninstall: torch\n",
      "    Found existing installation: torch 1.7.1\n",
      "    Uninstalling torch-1.7.1:\n",
      "      Successfully uninstalled torch-1.7.1\n",
      "  Rolling back uninstall of torch\n",
      "  Moving to /home/richy/anaconda3/envs/deca_env/bin/convert-caffe2-to-onnx\n",
      "   from /tmp/pip-uninstall-c9woitsf/convert-caffe2-to-onnx\n",
      "  Moving to /home/richy/anaconda3/envs/deca_env/bin/convert-onnx-to-caffe2\n",
      "   from /tmp/pip-uninstall-c9woitsf/convert-onnx-to-caffe2\n",
      "  Moving to /home/richy/anaconda3/envs/deca_env/lib/python3.7/site-packages/caffe2\n",
      "   from /home/richy/anaconda3/envs/deca_env/lib/python3.7/site-packages/~affe2\n",
      "  Moving to /home/richy/anaconda3/envs/deca_env/lib/python3.7/site-packages/torch\n",
      "   from /home/richy/anaconda3/envs/deca_env/lib/python3.7/site-packages/~orch\n",
      "  Moving to /home/richy/anaconda3/envs/deca_env/lib/python3.7/site-packages/torch-1.7.1-py3.7.egg-info\n",
      "   from /home/richy/anaconda3/envs/deca_env/lib/python3.7/site-packages/~orch-1.7.1-py3.7.egg-info\n",
      "\u001b[31mERROR: Could not install packages due to an OSError: [Errno 28] No space left on device\n",
      "\u001b[0m\n",
      "Looking in links: https://download.pytorch.org/whl/torch_stable.html\n",
      "Collecting torchvision==0.7.0+cu101\n",
      "  Downloading https://download.pytorch.org/whl/cu101/torchvision-0.7.0%2Bcu101-cp37-cp37m-linux_x86_64.whl (5.9 MB)\n",
      "\u001b[K     |████████████████████████████████| 5.9 MB 955 kB/s eta 0:00:01\n",
      "\u001b[?25hRequirement already satisfied: numpy in /home/richy/anaconda3/envs/deca_env/lib/python3.7/site-packages (from torchvision==0.7.0+cu101) (1.21.6)\n",
      "Requirement already satisfied: pillow>=4.1.1 in /home/richy/anaconda3/envs/deca_env/lib/python3.7/site-packages (from torchvision==0.7.0+cu101) (9.1.0)\n",
      "Collecting torch==1.6.0\n",
      "  Downloading https://download.pytorch.org/whl/cu92/torch-1.6.0%2Bcu92-cp37-cp37m-linux_x86_64.whl (552.8 MB)\n",
      "\u001b[K     |████████████████████████████████| 552.8 MB 7.2 kB/s eta 0:00:01     |███████████████████████████████▏| 538.1 MB 3.8 MB/s eta 0:00:04\n",
      "\u001b[?25hRequirement already satisfied: future in /home/richy/anaconda3/envs/deca_env/lib/python3.7/site-packages (from torch==1.6.0->torchvision==0.7.0+cu101) (0.18.2)\n",
      "Installing collected packages: torch, torchvision\n",
      "  Attempting uninstall: torch\n",
      "    Found existing installation: torch 1.7.1\n",
      "    Uninstalling torch-1.7.1:\n",
      "      Successfully uninstalled torch-1.7.1\n",
      "  Rolling back uninstall of torch\n",
      "  Moving to /home/richy/anaconda3/envs/deca_env/bin/convert-caffe2-to-onnx\n",
      "   from /tmp/pip-uninstall-_x192jdu/convert-caffe2-to-onnx\n",
      "  Moving to /home/richy/anaconda3/envs/deca_env/bin/convert-onnx-to-caffe2\n",
      "   from /tmp/pip-uninstall-_x192jdu/convert-onnx-to-caffe2\n",
      "  Moving to /home/richy/anaconda3/envs/deca_env/lib/python3.7/site-packages/caffe2\n",
      "   from /home/richy/anaconda3/envs/deca_env/lib/python3.7/site-packages/~affe2\n",
      "  Moving to /home/richy/anaconda3/envs/deca_env/lib/python3.7/site-packages/torch\n",
      "   from /home/richy/anaconda3/envs/deca_env/lib/python3.7/site-packages/~orch\n",
      "  Moving to /home/richy/anaconda3/envs/deca_env/lib/python3.7/site-packages/torch-1.7.1-py3.7.egg-info\n",
      "   from /home/richy/anaconda3/envs/deca_env/lib/python3.7/site-packages/~orch-1.7.1-py3.7.egg-info\n",
      "\u001b[31mERROR: Could not install packages due to an OSError: [Errno 28] No space left on device\n",
      "\u001b[0m\n",
      "Collecting pytorch3d==0.2.5\n",
      "  Downloading pytorch3d-0.2.5-cp37-cp37m-manylinux1_x86_64.whl (20.6 MB)\n",
      "\u001b[K     |████████████████████████████████| 20.6 MB 3.8 MB/s eta 0:00:01\n",
      "\u001b[?25hRequirement already satisfied: fvcore in /home/richy/anaconda3/envs/deca_env/lib/python3.7/site-packages (from pytorch3d==0.2.5) (0.1.5.post20220414)\n",
      "Requirement already satisfied: torchvision>=0.4 in /home/richy/anaconda3/envs/deca_env/lib/python3.7/site-packages (from pytorch3d==0.2.5) (0.8.2)\n",
      "Requirement already satisfied: numpy in /home/richy/anaconda3/envs/deca_env/lib/python3.7/site-packages (from torchvision>=0.4->pytorch3d==0.2.5) (1.21.6)\n",
      "Requirement already satisfied: torch in /home/richy/anaconda3/envs/deca_env/lib/python3.7/site-packages (from torchvision>=0.4->pytorch3d==0.2.5) (1.7.1)\n",
      "Requirement already satisfied: pillow>=4.1.1 in /home/richy/anaconda3/envs/deca_env/lib/python3.7/site-packages (from torchvision>=0.4->pytorch3d==0.2.5) (9.1.0)\n",
      "Requirement already satisfied: yacs>=0.1.6 in /home/richy/anaconda3/envs/deca_env/lib/python3.7/site-packages (from fvcore->pytorch3d==0.2.5) (0.1.8)\n",
      "Requirement already satisfied: tabulate in /home/richy/anaconda3/envs/deca_env/lib/python3.7/site-packages (from fvcore->pytorch3d==0.2.5) (0.8.9)\n",
      "Requirement already satisfied: iopath>=0.1.7 in /home/richy/anaconda3/envs/deca_env/lib/python3.7/site-packages (from fvcore->pytorch3d==0.2.5) (0.1.9)\n",
      "Requirement already satisfied: termcolor>=1.1 in /home/richy/anaconda3/envs/deca_env/lib/python3.7/site-packages (from fvcore->pytorch3d==0.2.5) (1.1.0)\n",
      "Requirement already satisfied: tqdm in /home/richy/anaconda3/envs/deca_env/lib/python3.7/site-packages (from fvcore->pytorch3d==0.2.5) (4.64.0)\n",
      "Requirement already satisfied: pyyaml>=5.1 in /home/richy/anaconda3/envs/deca_env/lib/python3.7/site-packages (from fvcore->pytorch3d==0.2.5) (5.4.1)\n",
      "Requirement already satisfied: portalocker in /home/richy/anaconda3/envs/deca_env/lib/python3.7/site-packages (from iopath>=0.1.7->fvcore->pytorch3d==0.2.5) (2.4.0)\n",
      "Requirement already satisfied: typing_extensions in /home/richy/anaconda3/envs/deca_env/lib/python3.7/site-packages (from torch->torchvision>=0.4->pytorch3d==0.2.5) (4.2.0)\n",
      "Installing collected packages: pytorch3d\n",
      "  Attempting uninstall: pytorch3d\n",
      "    Found existing installation: pytorch3d 0.3.0\n",
      "    Uninstalling pytorch3d-0.3.0:\n",
      "      Successfully uninstalled pytorch3d-0.3.0\n",
      "Successfully installed pytorch3d-0.2.5\n"
     ]
    }
   ],
   "source": [
    "!conda install -c fvcore -c iopath -c conda-forge fvcore iopath -y\n",
    "\n",
    "!pip install 'torch==1.6.0+cu101' -f https://download.pytorch.org/whl/torch_stable.html\n",
    "!pip install 'torchvision==0.7.0+cu101' -f https://download.pytorch.org/whl/torch_stable.html\n",
    "!pip install 'pytorch3d==0.2.5'"
   ]
  },
  {
   "cell_type": "code",
   "execution_count": 17,
   "id": "03457f97",
   "metadata": {},
   "outputs": [
    {
     "name": "stdout",
     "output_type": "stream",
     "text": [
      "Collecting pytorch3d==0.2.5\n",
      "  Downloading pytorch3d-0.2.5-cp36-cp36m-manylinux1_x86_64.whl (20.6 MB)\n",
      "     |################################| 20.6 MB 3.3 MB/s            \n",
      "\u001b[?25hRequirement already satisfied: fvcore in /usr/local/lib/python3.6/dist-packages (from pytorch3d==0.2.5) (0.1.5.post20220414)\n",
      "Requirement already satisfied: torchvision>=0.4 in /usr/local/lib/python3.6/dist-packages (from pytorch3d==0.2.5) (0.7.0)\n",
      "Requirement already satisfied: pillow>=4.1.1 in /usr/local/lib/python3.6/dist-packages (from torchvision>=0.4->pytorch3d==0.2.5) (8.4.0)\n",
      "Requirement already satisfied: numpy in /usr/local/lib/python3.6/dist-packages (from torchvision>=0.4->pytorch3d==0.2.5) (1.19.5)\n",
      "Requirement already satisfied: torch==1.6.0 in /usr/local/lib/python3.6/dist-packages (from torchvision>=0.4->pytorch3d==0.2.5) (1.6.0)\n",
      "Requirement already satisfied: future in /usr/local/lib/python3.6/dist-packages (from torch==1.6.0->torchvision>=0.4->pytorch3d==0.2.5) (0.18.2)\n",
      "Requirement already satisfied: tabulate in /usr/local/lib/python3.6/dist-packages (from fvcore->pytorch3d==0.2.5) (0.8.9)\n",
      "Requirement already satisfied: dataclasses in /usr/local/lib/python3.6/dist-packages (from fvcore->pytorch3d==0.2.5) (0.8)\n",
      "Requirement already satisfied: pyyaml>=5.1 in /usr/local/lib/python3.6/dist-packages (from fvcore->pytorch3d==0.2.5) (5.1.1)\n",
      "Requirement already satisfied: iopath>=0.1.7 in /usr/local/lib/python3.6/dist-packages (from fvcore->pytorch3d==0.2.5) (0.1.9)\n",
      "Requirement already satisfied: yacs>=0.1.6 in /usr/local/lib/python3.6/dist-packages (from fvcore->pytorch3d==0.2.5) (0.1.8)\n",
      "Requirement already satisfied: termcolor>=1.1 in /usr/local/lib/python3.6/dist-packages (from fvcore->pytorch3d==0.2.5) (1.1.0)\n",
      "Requirement already satisfied: tqdm in /usr/local/lib/python3.6/dist-packages (from fvcore->pytorch3d==0.2.5) (4.64.0)\n",
      "Requirement already satisfied: portalocker in /usr/local/lib/python3.6/dist-packages (from iopath>=0.1.7->fvcore->pytorch3d==0.2.5) (2.4.0)\n",
      "Requirement already satisfied: importlib-resources in /usr/local/lib/python3.6/dist-packages (from tqdm->fvcore->pytorch3d==0.2.5) (5.4.0)\n",
      "Requirement already satisfied: zipp>=3.1.0 in /usr/local/lib/python3.6/dist-packages (from importlib-resources->tqdm->fvcore->pytorch3d==0.2.5) (3.6.0)\n",
      "Installing collected packages: pytorch3d\n",
      "Successfully installed pytorch3d-0.2.5\n",
      "\u001b[33mWARNING: Running pip as the 'root' user can result in broken permissions and conflicting behaviour with the system package manager. It is recommended to use a virtual environment instead: https://pip.pypa.io/warnings/venv\u001b[0m\n"
     ]
    }
   ],
   "source": [
    "!pip install 'pytorch3d==0.2.5'"
   ]
  },
  {
   "cell_type": "code",
   "execution_count": 17,
   "id": "fa2908d2",
   "metadata": {},
   "outputs": [
    {
     "name": "stdout",
     "output_type": "stream",
     "text": [
      "Requirement already satisfied: numpy>=1.18.5 in /opt/conda/envs/jupyter_env/lib/python3.6/site-packages (from -r DECA/requirements.txt (line 3)) (1.19.5)\n",
      "Requirement already satisfied: scipy>=1.4.1 in /opt/conda/envs/jupyter_env/lib/python3.6/site-packages (from -r DECA/requirements.txt (line 4)) (1.5.4)\n",
      "Collecting chumpy>=0.69\n",
      "  Using cached chumpy-0.70-py3-none-any.whl\n",
      "Collecting scikit-image>=0.15\n",
      "  Using cached scikit_image-0.17.2-cp36-cp36m-manylinux1_x86_64.whl (12.4 MB)\n",
      "Collecting opencv-python>=4.1.1\n",
      "  Using cached opencv_python-4.5.5.64-cp36-abi3-manylinux_2_17_x86_64.manylinux2014_x86_64.whl (60.5 MB)\n",
      "Collecting PyYAML==5.1.1\n",
      "  Using cached PyYAML-5.1.1-cp36-cp36m-linux_x86_64.whl\n",
      "Collecting torch==1.6.0\n",
      "  Using cached torch-1.6.0-cp36-cp36m-manylinux1_x86_64.whl (748.8 MB)\n",
      "Collecting torchvision==0.7.0\n",
      "  Using cached torchvision-0.7.0-cp36-cp36m-manylinux1_x86_64.whl (5.9 MB)\n",
      "Collecting face-alignment\n",
      "  Using cached face_alignment-1.3.5-py2.py3-none-any.whl\n",
      "Collecting yacs==0.1.8\n",
      "  Using cached yacs-0.1.8-py3-none-any.whl (14 kB)\n",
      "Collecting kornia==0.4.0\n",
      "  Using cached kornia-0.4.0-py2.py3-none-any.whl (195 kB)\n",
      "Collecting ninja\n",
      "  Using cached ninja-1.10.2.3-py2.py3-none-manylinux_2_5_x86_64.manylinux1_x86_64.whl (108 kB)\n",
      "Collecting fvcore\n",
      "  Using cached fvcore-0.1.5.post20220414-py3-none-any.whl\n",
      "Collecting future\n",
      "  Using cached future-0.18.2-py3-none-any.whl\n",
      "Requirement already satisfied: pillow>=4.1.1 in /opt/conda/envs/jupyter_env/lib/python3.6/site-packages (from torchvision==0.7.0->-r DECA/requirements.txt (line 11)) (8.4.0)\n",
      "Requirement already satisfied: six>=1.11.0 in /opt/conda/envs/jupyter_env/lib/python3.6/site-packages (from chumpy>=0.69->-r DECA/requirements.txt (line 5)) (1.11.0)\n",
      "Requirement already satisfied: tifffile>=2019.7.26 in /opt/conda/envs/jupyter_env/lib/python3.6/site-packages (from scikit-image>=0.15->-r DECA/requirements.txt (line 6)) (2020.9.3)\n",
      "Requirement already satisfied: matplotlib!=3.0.0,>=2.0.0 in /opt/conda/envs/jupyter_env/lib/python3.6/site-packages (from scikit-image>=0.15->-r DECA/requirements.txt (line 6)) (2.1.2)\n",
      "Collecting PyWavelets>=1.1.1\n",
      "  Using cached PyWavelets-1.1.1-cp36-cp36m-manylinux1_x86_64.whl (4.4 MB)\n",
      "Collecting imageio>=2.3.0\n",
      "  Using cached imageio-2.15.0-py3-none-any.whl (3.3 MB)\n",
      "Requirement already satisfied: networkx>=2.0 in /opt/conda/envs/jupyter_env/lib/python3.6/site-packages (from scikit-image>=0.15->-r DECA/requirements.txt (line 6)) (2.1)\n",
      "Requirement already satisfied: tqdm in /opt/conda/envs/jupyter_env/lib/python3.6/site-packages (from face-alignment->-r DECA/requirements.txt (line 12)) (4.64.0)\n",
      "Requirement already satisfied: numba in /opt/conda/envs/jupyter_env/lib/python3.6/site-packages (from face-alignment->-r DECA/requirements.txt (line 12)) (0.36.2)\n",
      "Requirement already satisfied: termcolor>=1.1 in /opt/conda/envs/jupyter_env/lib/python3.6/site-packages (from fvcore->-r DECA/requirements.txt (line 16)) (1.1.0)\n",
      "Collecting tabulate\n",
      "  Using cached tabulate-0.8.9-py3-none-any.whl (25 kB)\n",
      "Collecting iopath>=0.1.7\n",
      "  Using cached iopath-0.1.9-py3-none-any.whl (27 kB)\n",
      "Collecting dataclasses\n",
      "  Using cached dataclasses-0.8-py3-none-any.whl (19 kB)\n",
      "Collecting portalocker\n",
      "  Using cached portalocker-2.4.0-py2.py3-none-any.whl (16 kB)\n",
      "Requirement already satisfied: python-dateutil>=2.1 in /opt/conda/envs/jupyter_env/lib/python3.6/site-packages (from matplotlib!=3.0.0,>=2.0.0->scikit-image>=0.15->-r DECA/requirements.txt (line 6)) (2.6.1)\n",
      "Requirement already satisfied: pytz in /opt/conda/envs/jupyter_env/lib/python3.6/site-packages (from matplotlib!=3.0.0,>=2.0.0->scikit-image>=0.15->-r DECA/requirements.txt (line 6)) (2017.3)\n",
      "Requirement already satisfied: cycler>=0.10 in /opt/conda/envs/jupyter_env/lib/python3.6/site-packages (from matplotlib!=3.0.0,>=2.0.0->scikit-image>=0.15->-r DECA/requirements.txt (line 6)) (0.10.0)\n",
      "Requirement already satisfied: pyparsing!=2.0.4,!=2.1.2,!=2.1.6,>=2.0.1 in /opt/conda/envs/jupyter_env/lib/python3.6/site-packages (from matplotlib!=3.0.0,>=2.0.0->scikit-image>=0.15->-r DECA/requirements.txt (line 6)) (2.2.0)\n",
      "Requirement already satisfied: decorator>=4.1.0 in /opt/conda/envs/jupyter_env/lib/python3.6/site-packages (from networkx>=2.0->scikit-image>=0.15->-r DECA/requirements.txt (line 6)) (4.2.1)\n",
      "Requirement already satisfied: llvmlite in /opt/conda/envs/jupyter_env/lib/python3.6/site-packages (from numba->face-alignment->-r DECA/requirements.txt (line 12)) (0.21.0)\n",
      "Requirement already satisfied: importlib-resources in /opt/conda/envs/jupyter_env/lib/python3.6/site-packages (from tqdm->face-alignment->-r DECA/requirements.txt (line 12)) (5.4.0)\n",
      "Requirement already satisfied: zipp>=3.1.0 in /opt/conda/envs/jupyter_env/lib/python3.6/site-packages (from importlib-resources->tqdm->face-alignment->-r DECA/requirements.txt (line 12)) (3.6.0)\n",
      "Installing collected packages: PyYAML, PyWavelets, portalocker, imageio, future, dataclasses, yacs, torch, tabulate, scikit-image, opencv-python, iopath, torchvision, ninja, kornia, fvcore, face-alignment, chumpy\n",
      "  Attempting uninstall: PyYAML\n",
      "    Found existing installation: PyYAML 3.12\n",
      "\u001b[31mERROR: Cannot uninstall 'PyYAML'. It is a distutils installed project and thus we cannot accurately determine which files belong to it which would lead to only a partial uninstall.\u001b[0m\n"
     ]
    }
   ],
   "source": [
    "!pip install -r DECA/requirements.txt"
   ]
  },
  {
   "cell_type": "code",
   "execution_count": 22,
   "id": "cbc02dba",
   "metadata": {},
   "outputs": [
    {
     "name": "stdout",
     "output_type": "stream",
     "text": [
      "Traceback (most recent call last):\n",
      "  File \"DECA/demos/demo_reconstruct.py\", line 17, in <module>\n",
      "    import cv2\n",
      "ModuleNotFoundError: No module named 'cv2'\n"
     ]
    }
   ],
   "source": [
    "!python3 DECA/demos/demo_reconstruct.py -i DECA/TestSamples/examples --saveDepth True --saveObj True --rasterizer_type=pytorch3d"
   ]
  },
  {
   "cell_type": "code",
   "execution_count": 23,
   "id": "c8cbd298",
   "metadata": {},
   "outputs": [
    {
     "ename": "ModuleNotFoundError",
     "evalue": "No module named 'cv2'",
     "output_type": "error",
     "traceback": [
      "\u001b[0;31m---------------------------------------------------------------------------\u001b[0m",
      "\u001b[0;31mModuleNotFoundError\u001b[0m                       Traceback (most recent call last)",
      "\u001b[0;32m<ipython-input-23-c8ec22b3e787>\u001b[0m in \u001b[0;36m<module>\u001b[0;34m()\u001b[0m\n\u001b[0;32m----> 1\u001b[0;31m \u001b[0;32mimport\u001b[0m \u001b[0mcv2\u001b[0m\u001b[0;34m\u001b[0m\u001b[0m\n\u001b[0m",
      "\u001b[0;31mModuleNotFoundError\u001b[0m: No module named 'cv2'"
     ]
    }
   ],
   "source": [
    "import cv2"
   ]
  },
  {
   "cell_type": "code",
   "execution_count": 20,
   "id": "b901038a",
   "metadata": {},
   "outputs": [
    {
     "name": "stdout",
     "output_type": "stream",
     "text": [
      "/bin/sh: 1: nvcc: not found\n"
     ]
    }
   ],
   "source": [
    "!nvcc --version"
   ]
  },
  {
   "cell_type": "code",
   "execution_count": 18,
   "id": "ebead3a7",
   "metadata": {},
   "outputs": [
    {
     "name": "stdout",
     "output_type": "stream",
     "text": [
      "CUDA Version 9.0.176\n"
     ]
    }
   ],
   "source": [
    "!cat /usr/local/cuda/version.txt"
   ]
  },
  {
   "cell_type": "code",
   "execution_count": 19,
   "id": "6ad7ea21",
   "metadata": {},
   "outputs": [
    {
     "name": "stdout",
     "output_type": "stream",
     "text": [
      "Sat Apr 23 20:26:35 2022       \n",
      "+-----------------------------------------------------------------------------+\n",
      "| NVIDIA-SMI 510.60.02    Driver Version: 510.60.02    CUDA Version: 11.6     |\n",
      "|-------------------------------+----------------------+----------------------+\n",
      "| GPU  Name        Persistence-M| Bus-Id        Disp.A | Volatile Uncorr. ECC |\n",
      "| Fan  Temp  Perf  Pwr:Usage/Cap|         Memory-Usage | GPU-Util  Compute M. |\n",
      "|                               |                      |               MIG M. |\n",
      "|===============================+======================+======================|\n",
      "|   0  NVIDIA GeForce ...  Off  | 00000000:01:00.0  On |                  N/A |\n",
      "| N/A   56C    P8     8W /  N/A |    500MiB /  6144MiB |      3%      Default |\n",
      "|                               |                      |                  N/A |\n",
      "+-------------------------------+----------------------+----------------------+\n",
      "                                                                               \n",
      "+-----------------------------------------------------------------------------+\n",
      "| Processes:                                                                  |\n",
      "|  GPU   GI   CI        PID   Type   Process name                  GPU Memory |\n",
      "|        ID   ID                                                   Usage      |\n",
      "|=============================================================================|\n",
      "|    0   N/A  N/A      1372      G                                     230MiB |\n",
      "|    0   N/A  N/A      1959      G                                      55MiB |\n",
      "|    0   N/A  N/A      3130      G                                     212MiB |\n",
      "+-----------------------------------------------------------------------------+\n"
     ]
    }
   ],
   "source": [
    "!nvidia-smi"
   ]
  },
  {
   "cell_type": "code",
   "execution_count": null,
   "id": "37412de2",
   "metadata": {},
   "outputs": [],
   "source": []
  }
 ],
 "metadata": {
  "kernelspec": {
   "display_name": "Python 3 (ipykernel)",
   "language": "python",
   "name": "python3"
  },
  "language_info": {
   "codemirror_mode": {
    "name": "ipython",
    "version": 3
   },
   "file_extension": ".py",
   "mimetype": "text/x-python",
   "name": "python",
   "nbconvert_exporter": "python",
   "pygments_lexer": "ipython3",
   "version": "3.9.12"
  }
 },
 "nbformat": 4,
 "nbformat_minor": 5
}
